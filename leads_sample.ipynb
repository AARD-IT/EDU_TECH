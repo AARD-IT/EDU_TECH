{
 "cells": [
  {
   "cell_type": "code",
   "execution_count": null,
   "id": "90e216a5-7a67-473b-98cb-d7f7616f0e6e",
   "metadata": {},
   "outputs": [
    {
     "name": "stdin",
     "output_type": "stream",
     "text": [
      "\n",
      "Enter student comment (or type 'exit' to quit):  how much fees\n"
     ]
    },
    {
     "name": "stdout",
     "output_type": "stream",
     "text": [
      "➡️ Lead Classification (GenAI): \"Hot Lead\"\n"
     ]
    }
   ],
   "source": [
    "from openai import OpenAI\n",
    "\n",
    "# ====== Add your API key here ======\n",
    "OPENROUTER_API_KEY = \"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\"\n",
    "\n",
    "# ====== Initialize GenAI client ======\n",
    "client = OpenAI(\n",
    "    base_url=\"https://openrouter.ai/api/v1\",\n",
    "    api_key=OPENROUTER_API_KEY,\n",
    ")\n",
    "\n",
    "def classify_lead_genai(lead_text):\n",
    "    \"\"\"\n",
    "    Uses GenAI (Gemma) to classify the student lead text\n",
    "    \"\"\"\n",
    "    prompt = f\"\"\"\n",
    "    Classify the following student lead into one of these categories:\n",
    "    - Hot Lead: Very interested or asking about enrollment/courses/fees\n",
    "    - Cold Lead: General inquiry or low intent\n",
    "    - Spam: Unrelated, fake, or irrelevant\n",
    "    - Follow-Up Required: Show interest but need nurturing\n",
    "\n",
    "    Lead: \"{lead_text}\"\n",
    "    Return only the classification.\n",
    "    \"\"\"\n",
    "\n",
    "    try:\n",
    "        response = client.chat.completions.create(\n",
    "            model=\"google/gemma-3-27b-it:free\",\n",
    "            messages=[{\"role\": \"user\", \"content\": prompt}]\n",
    "        )\n",
    "        return response.choices[0].message.content.strip()\n",
    "    except Exception as e:\n",
    "        return f\"Error: {e}\"\n",
    "\n",
    "\n",
    "# ====== Main loop ======\n",
    "while True:\n",
    "    comment = input(\"\\nEnter student comment (or type 'exit' to quit): \")\n",
    "    if comment.lower() == \"exit\":\n",
    "        print(\"Exiting Lead Classification...\")\n",
    "        break\n",
    "\n",
    "    lead_type = classify_lead_genai(comment)\n",
    "    print(f\"➡️ Lead Classification (GenAI): {lead_type}\")\n"
   ]
  },
  {
   "cell_type": "code",
   "execution_count": null,
   "id": "356bd17c-cafc-4b26-aaf8-668c0cbde401",
   "metadata": {},
   "outputs": [],
   "source": []
  }
 ],
 "metadata": {
  "kernelspec": {
   "display_name": "Python 3 (ipykernel)",
   "language": "python",
   "name": "python3"
  },
  "language_info": {
   "codemirror_mode": {
    "name": "ipython",
    "version": 3
   },
   "file_extension": ".py",
   "mimetype": "text/x-python",
   "name": "python",
   "nbconvert_exporter": "python",
   "pygments_lexer": "ipython3",
   "version": "3.12.4"
  }
 },
 "nbformat": 4,
 "nbformat_minor": 5
}
